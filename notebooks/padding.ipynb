{
 "cells": [
  {
   "cell_type": "code",
   "execution_count": 1,
   "metadata": {},
   "outputs": [],
   "source": [
    "import torch\n",
    "import torch.nn.functional as F"
   ]
  },
  {
   "cell_type": "code",
   "execution_count": 14,
   "metadata": {},
   "outputs": [],
   "source": [
    "t1 = torch.tensor([1, 2, 3, 4])\n",
    "t2 = torch.tensor([5, 6, 7, 8, 9, 10, 11])"
   ]
  },
  {
   "cell_type": "code",
   "execution_count": 19,
   "metadata": {},
   "outputs": [
    {
     "name": "stdout",
     "output_type": "stream",
     "text": [
      "tensor([    1,     2,     3,     4, 50256, 50256, 50256, 50256, 50256, 50256]) shape: torch.Size([10])\n",
      "tensor([ 5,  6,  7,  8,  9, 10, 11,  0,  0,  0]) shape: torch.Size([10])\n"
     ]
    }
   ],
   "source": [
    "out = F.pad(t1, (0, 10 - t1.shape[0]), \"constant\", 50256)\n",
    "print(f\"{out} shape: {out.size()}\")\n",
    "\n",
    "out = F.pad(t2, (0, 10- t2.shape[0]), \"constant\", 0)\n",
    "print(f\"{out} shape: {out.size()}\")"
   ]
  },
  {
   "cell_type": "code",
   "execution_count": 31,
   "metadata": {},
   "outputs": [],
   "source": [
    "def pad_or_trim_sequence(t: torch.Tensor, context_length: int):\n",
    "    t = t[:context_length]\n",
    "    output = F.pad(t, (0, context_length - t.shape[0]), \"constant\", 0)\n",
    "    print(f\"{output} shape: {output.size()}\")\n"
   ]
  },
  {
   "cell_type": "code",
   "execution_count": 34,
   "metadata": {},
   "outputs": [
    {
     "name": "stdout",
     "output_type": "stream",
     "text": [
      "tensor([ 0,  1,  2,  3,  4,  5,  6,  7,  8,  9, 10, 11,  0,  0,  0,  0,  0,  0,\n",
      "         0,  0]) shape: torch.Size([20])\n"
     ]
    }
   ],
   "source": [
    "t1 = torch.tensor([0, 1, 2, 3, 4, 5, 6, 7, 8, 9, 10, 11])\n",
    "pad_or_trim_sequence(t=t1, context_length=20)"
   ]
  }
 ],
 "metadata": {
  "kernelspec": {
   "display_name": "tmyt",
   "language": "python",
   "name": "python3"
  },
  "language_info": {
   "codemirror_mode": {
    "name": "ipython",
    "version": 3
   },
   "file_extension": ".py",
   "mimetype": "text/x-python",
   "name": "python",
   "nbconvert_exporter": "python",
   "pygments_lexer": "ipython3",
   "version": "3.12.0"
  }
 },
 "nbformat": 4,
 "nbformat_minor": 2
}
