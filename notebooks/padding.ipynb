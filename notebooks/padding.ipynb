{
 "cells": [
  {
   "cell_type": "code",
   "execution_count": 1,
   "metadata": {},
   "outputs": [],
   "source": [
    "import torch\n",
    "import torch.nn.functional as F"
   ]
  },
  {
   "cell_type": "code",
   "execution_count": 43,
   "metadata": {},
   "outputs": [],
   "source": [
    "t1 = torch.tensor([[1, 2, 3, 4], [5, 6, 7, 8]])\n",
    "t2 = torch.tensor([5, 6, 7, 8, 9, 10, 11])"
   ]
  },
  {
   "cell_type": "code",
   "execution_count": 36,
   "metadata": {},
   "outputs": [
    {
     "name": "stdout",
     "output_type": "stream",
     "text": [
      "tensor([[    1,     2,     3,     4, 50256, 50256, 50256, 50256, 50256, 50256,\n",
      "         50256, 50256],\n",
      "        [    5,     6,     7,     8, 50256, 50256, 50256, 50256, 50256, 50256,\n",
      "         50256, 50256]]) shape: torch.Size([2, 12])\n",
      "tensor([ 5,  6,  7,  8,  9, 10, 11,  0,  0,  0]) shape: torch.Size([10])\n"
     ]
    }
   ],
   "source": [
    "out = F.pad(t1, (0, 10 - t1.shape[0]), \"constant\", 50256)\n",
    "print(f\"{out} shape: {out.size()}\")\n",
    "\n",
    "out = F.pad(t2, (0, 10- t2.shape[0]), \"constant\", 0)\n",
    "print(f\"{out} shape: {out.size()}\")"
   ]
  },
  {
   "cell_type": "code",
   "execution_count": 47,
   "metadata": {},
   "outputs": [],
   "source": [
    "def pad_or_trim_sequence(t: torch.Tensor, context_length: int):\n",
    "    t = t[:, :context_length]\n",
    "    output = F.pad(t, (0, context_length - t.shape[1]), \"constant\", 0)\n",
    "    print(f\"{output} shape: {output.size()}\")\n"
   ]
  },
  {
   "cell_type": "code",
   "execution_count": 85,
   "metadata": {},
   "outputs": [
    {
     "name": "stdout",
     "output_type": "stream",
     "text": [
      "tensor([[0, 1, 2, 3, 4],\n",
      "        [0, 1, 2, 3, 4]]) shape: torch.Size([2, 5])\n"
     ]
    }
   ],
   "source": [
    "t1 = torch.tensor([[0, 1, 2, 3, 4], [0, 1, 2, 3, 4]])\n",
    "t2 = torch.tensor([[0, 1, 2, 3, 4], [0, 1, 2, 3, 4]])\n",
    "t3 = torch.tensor([[0, 1, 2, 3, 4], [0, 1, 2, 3, 4]])\n",
    "t4 = torch.tensor([[0, 1, 2, 3, 4], [0, 1, 2, 3, 4]])\n",
    "pad_or_trim_sequence(t=t1, context_length=5)"
   ]
  },
  {
   "cell_type": "code",
   "execution_count": 86,
   "metadata": {},
   "outputs": [
    {
     "name": "stdout",
     "output_type": "stream",
     "text": [
      "torch.Size([2, 1, 5]) torch.Size([2, 1, 5]) torch.Size([2, 1, 5]) torch.Size([2, 1, 5])\n"
     ]
    }
   ],
   "source": [
    "t1 = t1.unsqueeze(1)\n",
    "t2 = t2.unsqueeze(1)\n",
    "t3 = t3.unsqueeze(1)\n",
    "t4 = t4.unsqueeze(1)\n",
    "print(t1.shape, t2.shape, t3.shape, t4.shape)"
   ]
  },
  {
   "cell_type": "code",
   "execution_count": 87,
   "metadata": {},
   "outputs": [
    {
     "data": {
      "text/plain": [
       "torch.Size([2, 4, 5])"
      ]
     },
     "execution_count": 87,
     "metadata": {},
     "output_type": "execute_result"
    }
   ],
   "source": [
    "t = torch.cat([t1, t2, t3, t4], dim=1)\n",
    "t.shape"
   ]
  },
  {
   "cell_type": "code",
   "execution_count": 94,
   "metadata": {},
   "outputs": [
    {
     "data": {
      "text/plain": [
       "torch.Size([2, 3, 4])"
      ]
     },
     "execution_count": 94,
     "metadata": {},
     "output_type": "execute_result"
    }
   ],
   "source": [
    "t5: torch.Tensor = torch.rand([2, 3, 4])\n",
    "t5.shape\n"
   ]
  },
  {
   "cell_type": "code",
   "execution_count": 97,
   "metadata": {},
   "outputs": [
    {
     "data": {
      "text/plain": [
       "torch.Size([6, 4])"
      ]
     },
     "execution_count": 97,
     "metadata": {},
     "output_type": "execute_result"
    }
   ],
   "source": [
    "flatten: torch.Tensor = torch.flatten(t5, 0, 1)\n",
    "flatten.shape"
   ]
  }
 ],
 "metadata": {
  "kernelspec": {
   "display_name": "tmyt",
   "language": "python",
   "name": "python3"
  },
  "language_info": {
   "codemirror_mode": {
    "name": "ipython",
    "version": 3
   },
   "file_extension": ".py",
   "mimetype": "text/x-python",
   "name": "python",
   "nbconvert_exporter": "python",
   "pygments_lexer": "ipython3",
   "version": "3.12.0"
  }
 },
 "nbformat": 4,
 "nbformat_minor": 2
}
