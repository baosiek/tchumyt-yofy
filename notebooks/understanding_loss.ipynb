{
 "cells": [
  {
   "cell_type": "code",
   "execution_count": 1,
   "metadata": {},
   "outputs": [
    {
     "name": "stdout",
     "output_type": "stream",
     "text": [
      "/home/baosiek/Projects/tchumyt-yofy\n"
     ]
    }
   ],
   "source": [
    "%cd /home/baosiek/Projects/tchumyt-yofy/"
   ]
  },
  {
   "cell_type": "code",
   "execution_count": 2,
   "metadata": {},
   "outputs": [
    {
     "name": "stderr",
     "output_type": "stream",
     "text": [
      "2025-01-21 09:34:57 - __init__ - INFO - Configuration file: llm/configs/gpt_config_124m_test.yaml\n"
     ]
    },
    {
     "data": {
      "text/plain": [
       "<torch._C.Generator at 0x7bf467f9f2d0>"
      ]
     },
     "execution_count": 2,
     "metadata": {},
     "output_type": "execute_result"
    }
   ],
   "source": [
    "from llm.llm.architecture.gpt_model import GPTModel\n",
    "from llm.llm import cfg\n",
    "from llm.llm.pipelines.inferencing.text_inferencer import TextProvider\n",
    "import torch\n",
    "\n",
    "torch.manual_seed(123)\n"
   ]
  },
  {
   "cell_type": "code",
   "execution_count": 3,
   "metadata": {},
   "outputs": [],
   "source": [
    "input_sentences = [\"every effort moves\", \"I really like\"]\n",
    "target_sentences = [\" effort moves you\", \" really like chocolate\"]"
   ]
  },
  {
   "cell_type": "code",
   "execution_count": 4,
   "metadata": {},
   "outputs": [],
   "source": [
    "model = GPTModel(cfg=cfg)"
   ]
  },
  {
   "cell_type": "code",
   "execution_count": 5,
   "metadata": {},
   "outputs": [],
   "source": [
    "text_provider = TextProvider(cfg=cfg)"
   ]
  },
  {
   "cell_type": "code",
   "execution_count": 6,
   "metadata": {},
   "outputs": [
    {
     "name": "stdout",
     "output_type": "stream",
     "text": [
      "Inputs: \n",
      "tensor([[16833,  3626,  6100],\n",
      "        [   40,  1107,   588]])\n",
      "Targets: \n",
      "tensor([[ 3626,  6100,   345],\n",
      "        [ 1107,   588, 11311]])\n"
     ]
    }
   ],
   "source": [
    "inputs = torch.tensor([], dtype=int)\n",
    "targets = torch.tensor([], dtype=int)\n",
    "\n",
    "for sent in input_sentences:\n",
    "    tk_ids = text_provider.text_to_token_ids(sent)\n",
    "    inputs = torch.cat((inputs, tk_ids))\n",
    "\n",
    "for sent in target_sentences:\n",
    "    tk_ids = text_provider.text_to_token_ids(sent)\n",
    "    targets = torch.cat((targets, tk_ids))\n",
    "\n",
    "print(f\"Inputs: \\n{inputs}\")\n",
    "print(f\"Targets: \\n{targets}\")"
   ]
  },
  {
   "cell_type": "code",
   "execution_count": 39,
   "metadata": {},
   "outputs": [
    {
     "name": "stdout",
     "output_type": "stream",
     "text": [
      "token ids: \n",
      "tensor([[[36595],\n",
      "         [18824],\n",
      "         [28544]],\n",
      "\n",
      "        [[35098],\n",
      "         [21445],\n",
      "         [ 8533]]])\n"
     ]
    }
   ],
   "source": [
    "with torch.no_grad():\n",
    "    logits = model(inputs)\n",
    "\n",
    "probas = torch.softmax(logits, dim=-1)\n",
    "token_ids = torch.argmax(probas, dim=-1, keepdim=True)\n",
    "print(f\"token ids: \\n{token_ids}\")"
   ]
  },
  {
   "cell_type": "code",
   "execution_count": 40,
   "metadata": {},
   "outputs": [
    {
     "name": "stdout",
     "output_type": "stream",
     "text": [
      "Targets sentence 1:  effort moves you\n",
      "Output model sentence 1:  Rookie crapIncreases\n",
      "Targets sentence 2:  really like chocolate\n",
      "Output model sentence 2: ㅋ tenants Dallas\n"
     ]
    }
   ],
   "source": [
    "print(f\"Targets sentence 1: {text_provider.token_ids_to_text(targets[0])}\")\n",
    "print(f\"Output model sentence 1: {text_provider.token_ids_to_text(token_ids=token_ids[0].flatten())}\")\n",
    "print(f\"Targets sentence 2: {text_provider.token_ids_to_text(targets[1])}\")\n",
    "print(f\"Output model sentence 2: {text_provider.token_ids_to_text(token_ids=token_ids[1].flatten())}\")"
   ]
  },
  {
   "cell_type": "code",
   "execution_count": 82,
   "metadata": {},
   "outputs": [
    {
     "name": "stdout",
     "output_type": "stream",
     "text": [
      "Text 1: tensor([9.6694e-06, 2.1944e-05, 2.4710e-05])\n",
      "Text 2: tensor([2.5327e-05, 8.8794e-06, 2.1665e-05])\n"
     ]
    }
   ],
   "source": [
    "text_idx = 0\n",
    "target_probas_1 = probas[text_idx, [0,1,2], targets[text_idx]]\n",
    "print(\"Text 1:\", target_probas_1)\n",
    "\n",
    "text_idx = 1\n",
    "target_probas_2 = probas[text_idx, [0,1,2], targets[text_idx]]\n",
    "print(\"Text 2:\", target_probas_2)"
   ]
  },
  {
   "cell_type": "code",
   "execution_count": 85,
   "metadata": {},
   "outputs": [
    {
     "name": "stdout",
     "output_type": "stream",
     "text": [
      "Log probabilities: tensor([-11.5465, -10.7270, -10.6083, -10.5836, -11.6318, -10.7398])\n",
      "Average Log probabilities: -10.97284984588623\n",
      "Negative Average Log probabilities: 10.97284984588623\n"
     ]
    }
   ],
   "source": [
    "log_probas = torch.log(torch.cat((target_probas_1, target_probas_2)))\n",
    "print(f\"Log probabilities: {log_probas}\")\n",
    "\n",
    "avg_log = torch.mean(log_probas)\n",
    "print(f\"Average Log probabilities: {avg_log}\")\n",
    "\n",
    "neg_avg_log = avg_log * -1\n",
    "print(f\"Negative Average Log probabilities: {neg_avg_log}\")"
   ]
  },
  {
   "cell_type": "code",
   "execution_count": 87,
   "metadata": {},
   "outputs": [
    {
     "name": "stdout",
     "output_type": "stream",
     "text": [
      "Shape target tensors: torch.Size([2, 3])\n",
      "Shape logits tensors: torch.Size([2, 3, 50257])\n"
     ]
    }
   ],
   "source": [
    "print(f\"Shape target tensors: {targets.shape}\")\n",
    "print(f\"Shape logits tensors: {logits.shape}\")"
   ]
  },
  {
   "cell_type": "code",
   "execution_count": 90,
   "metadata": {},
   "outputs": [
    {
     "name": "stdout",
     "output_type": "stream",
     "text": [
      "Shape flatten target tensors: torch.Size([6])\n",
      "Shape flatten logits tensors: torch.Size([6, 50257])\n"
     ]
    }
   ],
   "source": [
    "targets_flat = targets.flatten()\n",
    "logits_flat = logits.flatten(0, 1)\n",
    "\n",
    "print(f\"Shape flatten target tensors: {targets_flat.shape}\")\n",
    "print(f\"Shape flatten logits tensors: {logits_flat.shape}\")"
   ]
  },
  {
   "cell_type": "code",
   "execution_count": 91,
   "metadata": {},
   "outputs": [
    {
     "name": "stdout",
     "output_type": "stream",
     "text": [
      "Loss: 10.972847938537598\n"
     ]
    }
   ],
   "source": [
    "loss = torch.nn.functional.cross_entropy(logits_flat, targets_flat)\n",
    "print(f\"Loss: {loss}\")"
   ]
  }
 ],
 "metadata": {
  "kernelspec": {
   "display_name": "tmyt",
   "language": "python",
   "name": "python3"
  },
  "language_info": {
   "codemirror_mode": {
    "name": "ipython",
    "version": 3
   },
   "file_extension": ".py",
   "mimetype": "text/x-python",
   "name": "python",
   "nbconvert_exporter": "python",
   "pygments_lexer": "ipython3",
   "version": "3.12.6"
  }
 },
 "nbformat": 4,
 "nbformat_minor": 2
}
