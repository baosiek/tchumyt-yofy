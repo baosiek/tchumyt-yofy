{
 "cells": [
  {
   "cell_type": "code",
   "execution_count": 1,
   "metadata": {},
   "outputs": [],
   "source": [
    "import json"
   ]
  },
  {
   "cell_type": "code",
   "execution_count": 39,
   "metadata": {},
   "outputs": [],
   "source": [
    "with open('/home/baosiek/Projects/tchumyt-yofy/llm/resources/testing_stride_1_cl_64.json', 'r') as file:\n",
    "    json_lines = []\n",
    "    for line in file:\n",
    "        json_lines.append(line.strip(\"\\n\"))\n",
    "\n",
    "with open('/home/baosiek/Projects/tchumyt-yofy/llm/resources/test_RNNMODEL_LSTM_1_1.json', 'w') as f:\n",
    "    f.write(\"[\")\n",
    "    content = \",\".join(json_lines)\n",
    "    f.write(content)\n",
    "    f.write(\"]\")"
   ]
  },
  {
   "cell_type": "code",
   "execution_count": 41,
   "metadata": {},
   "outputs": [],
   "source": [
    "with open('/home/baosiek/Projects/tchumyt-yofy/llm/resources/test_RNNMODEL_LSTM_1_1.json', 'r') as f:\n",
    "    content = json.load(f)"
   ]
  }
 ],
 "metadata": {
  "kernelspec": {
   "display_name": "tmyt",
   "language": "python",
   "name": "python3"
  },
  "language_info": {
   "codemirror_mode": {
    "name": "ipython",
    "version": 3
   },
   "file_extension": ".py",
   "mimetype": "text/x-python",
   "name": "python",
   "nbconvert_exporter": "python",
   "pygments_lexer": "ipython3",
   "version": "3.12.0"
  }
 },
 "nbformat": 4,
 "nbformat_minor": 2
}
