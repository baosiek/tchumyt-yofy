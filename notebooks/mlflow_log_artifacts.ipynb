{
 "cells": [
  {
   "cell_type": "code",
   "execution_count": null,
   "metadata": {},
   "outputs": [],
   "source": [
    "import json\n",
    "import tempfile\n",
    "from pathlib import Path\n",
    "\n",
    "import mlflow\n",
    "\n"
   ]
  },
  {
   "cell_type": "code",
   "execution_count": 3,
   "metadata": {},
   "outputs": [],
   "source": [
    "# Use the fluent API to set the tracking uri and the active experiment\n",
    "mlflow.set_tracking_uri(\"http://127.0.0.1:5000\")\n",
    "\n",
    "# Sets the current active experiment to the \"Politics GPTModel\"\n",
    "# experiment and returns the Experiment metadata\n",
    "_experiment = mlflow.set_experiment(\"RNN LSTM Model\")\n",
    "\n",
    "# Define a run name for this iteration of training.\n",
    "# If this is not set, a unique name will be auto-generated for your run.\n",
    "run_name = \"initial training with limit set to 1000\""
   ]
  },
  {
   "cell_type": "code",
   "execution_count": 33,
   "metadata": {},
   "outputs": [
    {
     "name": "stdout",
     "output_type": "stream",
     "text": [
      "mlflow-artifacts:/320973163544292507/317e1befcdcc4ce1971c742609d67849/artifacts\n",
      "🏃 View run initial training with limit set to 1000 at: http://127.0.0.1:5000/#/experiments/320973163544292507/runs/317e1befcdcc4ce1971c742609d67849\n",
      "🧪 View experiment at: http://127.0.0.1:5000/#/experiments/320973163544292507\n"
     ]
    }
   ],
   "source": [
    "with mlflow.start_run(run_name=run_name) as run:\n",
    "    artifact_uri = run.info.artifact_uri\n",
    "    print(artifact_uri)\n",
    "    mlflow.log_artifact(\"../llm/logs/project.log\", \"logs\")"
   ]
  }
 ],
 "metadata": {
  "kernelspec": {
   "display_name": "tmyt",
   "language": "python",
   "name": "python3"
  },
  "language_info": {
   "codemirror_mode": {
    "name": "ipython",
    "version": 3
   },
   "file_extension": ".py",
   "mimetype": "text/x-python",
   "name": "python",
   "nbconvert_exporter": "python",
   "pygments_lexer": "ipython3",
   "version": "3.12.0"
  }
 },
 "nbformat": 4,
 "nbformat_minor": 2
}
