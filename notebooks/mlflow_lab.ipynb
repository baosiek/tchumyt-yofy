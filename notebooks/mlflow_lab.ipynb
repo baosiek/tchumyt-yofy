{
 "cells": [
  {
   "cell_type": "code",
   "execution_count": 1,
   "metadata": {},
   "outputs": [],
   "source": [
    "from mlflow import MlflowClient"
   ]
  },
  {
   "cell_type": "code",
   "execution_count": 2,
   "metadata": {},
   "outputs": [],
   "source": [
    "client = MlflowClient(tracking_uri=\"http://127.0.0.1:5000\")"
   ]
  },
  {
   "cell_type": "code",
   "execution_count": 3,
   "metadata": {},
   "outputs": [
    {
     "data": {
      "text/plain": [
       "[<Experiment: artifact_location='mlflow-artifacts:/0', creation_time=1738877135799, experiment_id='0', last_update_time=1738877135799, lifecycle_stage='active', name='Default', tags={}>]"
      ]
     },
     "execution_count": 3,
     "metadata": {},
     "output_type": "execute_result"
    }
   ],
   "source": [
    "# Default experiment\n",
    "all_experiments = client.search_experiments()\n",
    "all_experiments"
   ]
  },
  {
   "cell_type": "code",
   "execution_count": 4,
   "metadata": {},
   "outputs": [],
   "source": [
    "from mlflow.store.entities.paged_list import PagedList"
   ]
  },
  {
   "cell_type": "code",
   "execution_count": 5,
   "metadata": {},
   "outputs": [
    {
     "name": "stdout",
     "output_type": "stream",
     "text": [
      "mlflow-artifacts:/0\n"
     ]
    }
   ],
   "source": [
    "for experiment in all_experiments:\n",
    "    print(experiment.artifact_location)"
   ]
  },
  {
   "cell_type": "code",
   "execution_count": 15,
   "metadata": {},
   "outputs": [],
   "source": [
    "# Provide an Experiment description that will appear in the UI\n",
    "experiment_description = (\"This is the GPTModel from scratch project. This experiment is to produce a model for politics\")"
   ]
  },
  {
   "cell_type": "code",
   "execution_count": 16,
   "metadata": {},
   "outputs": [],
   "source": [
    "# Provide searchable tags that define characteristics of the Runs that\n",
    "# will be in this Experiment\n",
    "experiment_tags = {\n",
    "    \"project_name\": \"gptmodel\",\n",
    "    \"target\": \"politics\",\n",
    "    \"team\": \"tchumyt-ai\",\n",
    "    \"mlflow.note.content\": experiment_description,\n",
    "}"
   ]
  },
  {
   "cell_type": "code",
   "execution_count": 21,
   "metadata": {},
   "outputs": [],
   "source": [
    "# Create the Experiment, providing a unique name\n",
    "produce_politics_experiment = client.create_experiment(\n",
    "    name=\"Politics GPTModel\", tags=experiment_tags\n",
    ")"
   ]
  },
  {
   "cell_type": "code",
   "execution_count": 22,
   "metadata": {},
   "outputs": [
    {
     "name": "stdout",
     "output_type": "stream",
     "text": [
      "{'_experiment_id': '585006454050763634', '_name': 'Politics GPTModel', '_artifact_location': 'mlflow-artifacts:/585006454050763634', '_lifecycle_stage': 'active', '_tags': {'target': 'politics', 'team': 'tchumyt-ai', 'project_name': 'gptmodel', 'mlflow.note.content': 'This is the GPTModel from scratch project. This experiment is to produce a model for politics'}, '_creation_time': 1738887303575, '_last_update_time': 1738887303575}\n"
     ]
    }
   ],
   "source": [
    "politics_experiment = client.search_experiments(filter_string=\"tags.`project_name` = 'gptmodel'\")\n",
    "print(vars(politics_experiment[0]))"
   ]
  }
 ],
 "metadata": {
  "kernelspec": {
   "display_name": "tmyt",
   "language": "python",
   "name": "python3"
  },
  "language_info": {
   "codemirror_mode": {
    "name": "ipython",
    "version": 3
   },
   "file_extension": ".py",
   "mimetype": "text/x-python",
   "name": "python",
   "nbconvert_exporter": "python",
   "pygments_lexer": "ipython3",
   "version": "3.12.6"
  }
 },
 "nbformat": 4,
 "nbformat_minor": 2
}
