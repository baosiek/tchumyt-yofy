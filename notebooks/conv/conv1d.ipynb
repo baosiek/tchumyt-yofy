{
 "cells": [
  {
   "cell_type": "code",
   "execution_count": 4,
   "metadata": {},
   "outputs": [],
   "source": [
    "import torch\n",
    "import torch.nn as nn"
   ]
  },
  {
   "cell_type": "code",
   "execution_count": 11,
   "metadata": {},
   "outputs": [
    {
     "data": {
      "text/plain": [
       "torch.Size([1, 5, 3])"
      ]
     },
     "execution_count": 11,
     "metadata": {},
     "output_type": "execute_result"
    }
   ],
   "source": [
    "n = 1\n",
    "l = 5\n",
    "d = 3\n",
    "x = torch.randn(n, l, d)\n",
    "x.shape"
   ]
  },
  {
   "cell_type": "code",
   "execution_count": 13,
   "metadata": {},
   "outputs": [
    {
     "name": "stdout",
     "output_type": "stream",
     "text": [
      "<class 'torch.nn.modules.conv.Conv1d'>\n"
     ]
    }
   ],
   "source": [
    "conv1 = nn.Conv1d(d, 1, 2)\n",
    "print(type(conv1))"
   ]
  },
  {
   "cell_type": "code",
   "execution_count": 15,
   "metadata": {},
   "outputs": [
    {
     "name": "stdout",
     "output_type": "stream",
     "text": [
      "torch.Size([1, 3, 5])\n"
     ]
    },
    {
     "data": {
      "text/plain": [
       "tensor([[[-0.9587,  0.4750,  0.0239],\n",
       "         [ 0.9354,  0.0639,  0.1497],\n",
       "         [-0.6786, -0.9236, -1.1415],\n",
       "         [ 0.6039,  0.9541,  1.4515],\n",
       "         [-3.0308,  0.9812, -2.0566]]])"
      ]
     },
     "execution_count": 15,
     "metadata": {},
     "output_type": "execute_result"
    }
   ],
   "source": [
    "x_p = x.permute(0, 2, 1)\n",
    "print(x_p.shape)\n",
    "x = conv1(x_p)\n",
    "x = x_p.permute(0, 2, 1)\n",
    "x"
   ]
  }
 ],
 "metadata": {
  "kernelspec": {
   "display_name": "tmyt",
   "language": "python",
   "name": "python3"
  },
  "language_info": {
   "codemirror_mode": {
    "name": "ipython",
    "version": 3
   },
   "file_extension": ".py",
   "mimetype": "text/x-python",
   "name": "python",
   "nbconvert_exporter": "python",
   "pygments_lexer": "ipython3",
   "version": "3.13.2"
  }
 },
 "nbformat": 4,
 "nbformat_minor": 2
}
