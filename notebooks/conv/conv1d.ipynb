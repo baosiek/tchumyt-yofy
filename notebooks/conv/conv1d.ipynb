{
 "cells": [
  {
   "cell_type": "code",
   "execution_count": 1,
   "metadata": {},
   "outputs": [],
   "source": [
    "import torch\n",
    "import torch.nn as nn\n",
    "import torch.nn.functional as F\n",
    "from collections import OrderedDict"
   ]
  },
  {
   "cell_type": "code",
   "execution_count": null,
   "metadata": {},
   "outputs": [],
   "source": [
    "class FeedForward(nn.Module):\n",
    "    def __init__(self, embedding_dim):\n",
    "        super(FeedForward, self).__init__()\n",
    "\n",
    "        self.layers: nn.Sequential = nn.Sequential(\n",
    "            nn.Linear(\n",
    "                embedding_dim,\n",
    "                embedding_dim\n",
    "            ),\n",
    "            nn.GELU(),\n",
    "            nn.Linear(\n",
    "                embedding_dim,\n",
    "                embedding_dim\n",
    "            )\n",
    "        )\n",
    "\n",
    "    def forward(self, x: torch.Tensor) -> torch.Tensor:\n",
    "        return self.layers(x)"
   ]
  },
  {
   "cell_type": "code",
   "execution_count": null,
   "metadata": {},
   "outputs": [],
   "source": [
    "class Conv1DBlock(nn.Module):\n",
    "    def __init__(\n",
    "            self,\n",
    "            embedding_dim: int,\n",
    "            kernel_size: int,\n",
    "            stride: int,\n",
    "            dropout_rate: float\n",
    "            ):\n",
    "        super(Conv1DBlock, self).__init__()\n",
    "\n",
    "        self.conv = nn.Conv1d(in_channels=embedding_dim, out_channels=embedding_dim, kernel_size=kernel_size, stride=stride, padding='same')\n",
    "        self.batch_norm = nn.BatchNorm1d(num_features=embedding_dim)\n",
    "        self.relu = nn.ReLU()\n",
    "        self.dropout_conv = nn.Dropout(dropout_rate)\n",
    "        self.ff = FeedForward(embedding_dim=embedding_dim)\n",
    "        self.dropout_ff = nn.Dropout(dropout_rate)\n",
    "\n",
    "    def forward(self, X):\n",
    "\n",
    "        shortcut = X\n",
    "\n",
    "        X = X.transpose(1,2)\n",
    "        X = self.conv(X)\n",
    "        X = self.batch_norm(X)\n",
    "        X = self.relu(X)\n",
    "        X = self.dropout_conv(X)\n",
    "        X = X.transpose(1,2)\n",
    "        X = X + shortcut\n",
    "\n",
    "        X = self.ff(X)\n",
    "        X = self.dropout_ff(X)\n",
    "        X = X + shortcut\n",
    "        \n",
    "        return X\n"
   ]
  },
  {
   "cell_type": "code",
   "execution_count": 63,
   "metadata": {},
   "outputs": [],
   "source": [
    "embeddings = 4\n",
    "kernel_size = 3\n",
    "stride = 1\n",
    "dropout_rate = 0.1"
   ]
  },
  {
   "cell_type": "code",
   "execution_count": null,
   "metadata": {},
   "outputs": [],
   "source": [
    "batch_size = 1\n",
    "steps = 5\n",
    "X = torch.rand(batch_size, steps, embeddings)\n",
    "X"
   ]
  },
  {
   "cell_type": "code",
   "execution_count": null,
   "metadata": {},
   "outputs": [],
   "source": [
    "class Output(nn.Module):\n",
    "    def __init__(\n",
    "            self,\n",
    "            embedding_dim: int,\n",
    "            vocabulary_size: int\n",
    "            ):\n",
    "        super(Output, self).__init__()\n",
    "\n",
    "        self.output = nn.Sequential(OrderedDict([\n",
    "            ('out_linear_1', nn.Linear(\n",
    "                embedding_dim, embedding_dim * 2\n",
    "            )),\n",
    "            ('out_act_1', nn.GELU()),\n",
    "            ('out_linear_2', nn.Linear(\n",
    "                embedding_dim * 2, embedding_dim * 4\n",
    "            )),\n",
    "            ('out_act_2', nn.GELU()),\n",
    "            ('out_linear_3', nn.Linear(\n",
    "                embedding_dim * 4, embedding_dim * 4\n",
    "            )),\n",
    "            ('out_act_3', nn.GELU()),\n",
    "            ('out_linear_4', nn.Linear(\n",
    "                embedding_dim * 4, embedding_dim * 2\n",
    "            )),\n",
    "            ('out_act_4', nn.GELU()),\n",
    "        ]))\n",
    "\n",
    "        self.output: nn.Linear = nn.Linear(embedding_dim * 2, vocabulary_size),"
   ]
  },
  {
   "cell_type": "code",
   "execution_count": 70,
   "metadata": {},
   "outputs": [
    {
     "name": "stdout",
     "output_type": "stream",
     "text": [
      "emb * 1, emb * 2\n",
      "emb * 2, emb * 4\n",
      "emb * 4, emb * 8\n",
      "emb * 8, emb * 16\n",
      "emb * 16, emb * 32\n",
      "emb * 32, emb * 32\n",
      "emb * 32, emb * 16\n",
      "emb * 16, emb * 8\n",
      "emb * 8, emb * 4\n",
      "emb * 4, emb * 2\n",
      "emb * 2, emb * 1\n",
      "[Linear(in_features=4, out_features=8, bias=True), Linear(in_features=8, out_features=16, bias=True), Linear(in_features=16, out_features=32, bias=True), Linear(in_features=32, out_features=64, bias=True), Linear(in_features=64, out_features=128, bias=True), Linear(in_features=128, out_features=128, bias=True), Linear(in_features=128, out_features=64, bias=True), Linear(in_features=64, out_features=32, bias=True), Linear(in_features=32, out_features=16, bias=True), Linear(in_features=16, out_features=8, bias=True), Linear(in_features=8, out_features=4, bias=True)]\n"
     ]
    }
   ],
   "source": [
    "n_layers = 4\n",
    "layers = []\n",
    "last = 0\n",
    "for n in range(1, n_layers + 2):\n",
    "    layer = nn.Linear(embeddings * (2**(n-1)), embeddings * ((2 ** n)))\n",
    "    layers.append(layer)\n",
    "    print(f\"emb * {2**(n-1)}, emb * {2**n}\")\n",
    "    last = 2 ** n\n",
    "layer = nn.Linear(embeddings * last, embeddings * last)\n",
    "layers.append(layer)\n",
    "print(f\"emb * {last}, emb * {last}\")\n",
    "for n in range(n_layers+1, 0, -1):\n",
    "    layer = nn.Linear(embeddings * (2**n), embeddings * ((2 ** (n-1))))\n",
    "    print(f\"emb * {2**n}, emb * {2**(n-1)}\")\n",
    "    layers.append(layer)\n",
    "\n",
    "print(layers)"
   ]
  },
  {
   "cell_type": "code",
   "execution_count": 71,
   "metadata": {},
   "outputs": [
    {
     "data": {
      "text/plain": [
       "Sequential(\n",
       "  (0): Linear(in_features=4, out_features=8, bias=True)\n",
       "  (1): Linear(in_features=8, out_features=16, bias=True)\n",
       "  (2): Linear(in_features=16, out_features=32, bias=True)\n",
       "  (3): Linear(in_features=32, out_features=64, bias=True)\n",
       "  (4): Linear(in_features=64, out_features=128, bias=True)\n",
       "  (5): Linear(in_features=128, out_features=128, bias=True)\n",
       "  (6): Linear(in_features=128, out_features=64, bias=True)\n",
       "  (7): Linear(in_features=64, out_features=32, bias=True)\n",
       "  (8): Linear(in_features=32, out_features=16, bias=True)\n",
       "  (9): Linear(in_features=16, out_features=8, bias=True)\n",
       "  (10): Linear(in_features=8, out_features=4, bias=True)\n",
       ")"
      ]
     },
     "execution_count": 71,
     "metadata": {},
     "output_type": "execute_result"
    }
   ],
   "source": [
    "seq = nn.Sequential(*layers)\n",
    "seq"
   ]
  },
  {
   "cell_type": "code",
   "execution_count": 62,
   "metadata": {},
   "outputs": [
    {
     "name": "stdout",
     "output_type": "stream",
     "text": [
      "1 2\n",
      "2 4\n",
      "4 8\n",
      "8 16\n",
      "16 16\n",
      "16 8\n",
      "8 4\n",
      "4 2\n",
      "2 1\n"
     ]
    }
   ],
   "source": [
    "n_layers = 3\n",
    "\n",
    "last = 0\n",
    "for n in range(1, n_layers + 2):\n",
    "    print(2 ** (n-1), 2 ** n)\n",
    "    last = 2 ** n\n",
    "\n",
    "print(last, last)\n",
    "for n in range(n_layers+1, 0, -1):\n",
    "    print(2 ** n, 2 ** (n-1))\n"
   ]
  }
 ],
 "metadata": {
  "kernelspec": {
   "display_name": "tmyt",
   "language": "python",
   "name": "python3"
  },
  "language_info": {
   "codemirror_mode": {
    "name": "ipython",
    "version": 3
   },
   "file_extension": ".py",
   "mimetype": "text/x-python",
   "name": "python",
   "nbconvert_exporter": "python",
   "pygments_lexer": "ipython3",
   "version": "3.13.2"
  }
 },
 "nbformat": 4,
 "nbformat_minor": 2
}
