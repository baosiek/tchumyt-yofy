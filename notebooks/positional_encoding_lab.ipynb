{
 "cells": [
  {
   "cell_type": "code",
   "execution_count": 1,
   "metadata": {},
   "outputs": [],
   "source": [
    "import math\n",
    "import torch\n",
    "import torch.nn as nn"
   ]
  },
  {
   "cell_type": "code",
   "execution_count": 3,
   "metadata": {},
   "outputs": [
    {
     "data": {
      "text/plain": [
       "tensor([[0.],\n",
       "        [1.],\n",
       "        [2.],\n",
       "        [3.],\n",
       "        [4.],\n",
       "        [5.],\n",
       "        [6.],\n",
       "        [7.],\n",
       "        [8.],\n",
       "        [9.]])"
      ]
     },
     "execution_count": 3,
     "metadata": {},
     "output_type": "execute_result"
    }
   ],
   "source": [
    "position = torch.arange(0, 10, dtype=torch.float).unsqueeze(1)\n",
    "position"
   ]
  },
  {
   "cell_type": "code",
   "execution_count": 4,
   "metadata": {},
   "outputs": [
    {
     "data": {
      "text/plain": [
       "tensor([1.0000, 0.0022])"
      ]
     },
     "execution_count": 4,
     "metadata": {},
     "output_type": "execute_result"
    }
   ],
   "source": [
    "div_term = torch.exp(torch.arange(0, 4, 2).float() * (-math.log(10000.0) / 3))\n",
    "div_term"
   ]
  },
  {
   "cell_type": "code",
   "execution_count": 17,
   "metadata": {},
   "outputs": [
    {
     "data": {
      "text/plain": [
       "tensor([[0., 0., 0., 0.],\n",
       "        [0., 0., 0., 0.],\n",
       "        [0., 0., 0., 0.],\n",
       "        [0., 0., 0., 0.],\n",
       "        [0., 0., 0., 0.],\n",
       "        [0., 0., 0., 0.],\n",
       "        [0., 0., 0., 0.],\n",
       "        [0., 0., 0., 0.],\n",
       "        [0., 0., 0., 0.],\n",
       "        [0., 0., 0., 0.]])"
      ]
     },
     "execution_count": 17,
     "metadata": {},
     "output_type": "execute_result"
    }
   ],
   "source": [
    "pe = torch.zeros(10, 4)\n",
    "pe"
   ]
  },
  {
   "cell_type": "code",
   "execution_count": 18,
   "metadata": {},
   "outputs": [
    {
     "data": {
      "text/plain": [
       "tensor([[ 0.0000,  0.0000,  0.0000,  0.0000],\n",
       "        [ 0.8415,  0.0000,  0.0022,  0.0000],\n",
       "        [ 0.9093,  0.0000,  0.0043,  0.0000],\n",
       "        [ 0.1411,  0.0000,  0.0065,  0.0000],\n",
       "        [-0.7568,  0.0000,  0.0086,  0.0000],\n",
       "        [-0.9589,  0.0000,  0.0108,  0.0000],\n",
       "        [-0.2794,  0.0000,  0.0129,  0.0000],\n",
       "        [ 0.6570,  0.0000,  0.0151,  0.0000],\n",
       "        [ 0.9894,  0.0000,  0.0172,  0.0000],\n",
       "        [ 0.4121,  0.0000,  0.0194,  0.0000]])"
      ]
     },
     "execution_count": 18,
     "metadata": {},
     "output_type": "execute_result"
    }
   ],
   "source": [
    "pe[:, 0::2] = torch.sin(position * div_term)\n",
    "pe"
   ]
  },
  {
   "cell_type": "code",
   "execution_count": 19,
   "metadata": {},
   "outputs": [
    {
     "data": {
      "text/plain": [
       "tensor([[ 0.0000,  1.0000,  0.0000,  1.0000],\n",
       "        [ 0.8415,  0.5403,  0.0022,  1.0000],\n",
       "        [ 0.9093, -0.4161,  0.0043,  1.0000],\n",
       "        [ 0.1411, -0.9900,  0.0065,  1.0000],\n",
       "        [-0.7568, -0.6536,  0.0086,  1.0000],\n",
       "        [-0.9589,  0.2837,  0.0108,  0.9999],\n",
       "        [-0.2794,  0.9602,  0.0129,  0.9999],\n",
       "        [ 0.6570,  0.7539,  0.0151,  0.9999],\n",
       "        [ 0.9894, -0.1455,  0.0172,  0.9999],\n",
       "        [ 0.4121, -0.9111,  0.0194,  0.9998]])"
      ]
     },
     "execution_count": 19,
     "metadata": {},
     "output_type": "execute_result"
    }
   ],
   "source": [
    "pe[:, 1::2] = torch.cos(position * div_term)\n",
    "pe"
   ]
  },
  {
   "cell_type": "code",
   "execution_count": 20,
   "metadata": {},
   "outputs": [
    {
     "data": {
      "text/plain": [
       "tensor([[[ 0.0000,  1.0000,  0.0000,  1.0000],\n",
       "         [ 0.8415,  0.5403,  0.0022,  1.0000],\n",
       "         [ 0.9093, -0.4161,  0.0043,  1.0000],\n",
       "         [ 0.1411, -0.9900,  0.0065,  1.0000],\n",
       "         [-0.7568, -0.6536,  0.0086,  1.0000],\n",
       "         [-0.9589,  0.2837,  0.0108,  0.9999],\n",
       "         [-0.2794,  0.9602,  0.0129,  0.9999],\n",
       "         [ 0.6570,  0.7539,  0.0151,  0.9999],\n",
       "         [ 0.9894, -0.1455,  0.0172,  0.9999],\n",
       "         [ 0.4121, -0.9111,  0.0194,  0.9998]]])"
      ]
     },
     "execution_count": 20,
     "metadata": {},
     "output_type": "execute_result"
    }
   ],
   "source": [
    "pe = pe.unsqueeze(0)\n",
    "pe"
   ]
  },
  {
   "cell_type": "code",
   "execution_count": 21,
   "metadata": {},
   "outputs": [
    {
     "data": {
      "text/plain": [
       "tensor([[[-0.7462,  0.1711,  0.0172, -1.2772],\n",
       "         [-1.6879, -1.0122,  1.1333, -1.0249],\n",
       "         [-1.0936, -0.7264, -1.2888,  1.5503],\n",
       "         [-0.4468, -2.4408, -0.9945, -0.2820],\n",
       "         [ 0.2417,  0.7968,  1.0706,  0.3965],\n",
       "         [ 1.1287,  0.3529, -0.0740,  1.3907]],\n",
       "\n",
       "        [[-0.7462,  0.1711,  0.0172, -1.2772],\n",
       "         [-1.6879, -1.0122,  1.1333, -1.0249],\n",
       "         [-1.0936, -0.7264, -1.2888,  1.5503],\n",
       "         [-0.4468, -2.4408, -0.9945, -0.2820],\n",
       "         [ 0.2417,  0.7968,  1.0706,  0.3965],\n",
       "         [ 1.1287,  0.3529, -0.0740,  1.3907]]])"
      ]
     },
     "execution_count": 21,
     "metadata": {},
     "output_type": "execute_result"
    }
   ],
   "source": [
    "x = torch.tensor(\n",
    "    [[[-0.7462,  0.1711,  0.0172, -1.2772],\n",
    "         [-1.6879, -1.0122,  1.1333, -1.0249],\n",
    "         [-1.0936, -0.7264, -1.2888,  1.5503],\n",
    "         [-0.4468, -2.4408, -0.9945, -0.2820],\n",
    "         [ 0.2417,  0.7968,  1.0706,  0.3965],\n",
    "         [ 1.1287,  0.3529, -0.0740,  1.3907]],\n",
    "\n",
    "        [[-0.7462,  0.1711,  0.0172, -1.2772],\n",
    "         [-1.6879, -1.0122,  1.1333, -1.0249],\n",
    "         [-1.0936, -0.7264, -1.2888,  1.5503],\n",
    "         [-0.4468, -2.4408, -0.9945, -0.2820],\n",
    "         [ 0.2417,  0.7968,  1.0706,  0.3965],\n",
    "         [ 1.1287,  0.3529, -0.0740,  1.3907]]]\n",
    ")\n",
    "x"
   ]
  },
  {
   "cell_type": "code",
   "execution_count": 22,
   "metadata": {},
   "outputs": [
    {
     "name": "stdout",
     "output_type": "stream",
     "text": [
      "torch.Size([2, 6, 4])\n",
      "torch.Size([1, 10, 4])\n"
     ]
    },
    {
     "data": {
      "text/plain": [
       "tensor([[[-0.7462,  1.1711,  0.0172, -0.2772],\n",
       "         [-0.8464, -0.4719,  1.1355, -0.0249],\n",
       "         [-0.1843, -1.1425, -1.2845,  2.5503],\n",
       "         [-0.3057, -3.4308, -0.9880,  0.7180],\n",
       "         [-0.5151,  0.1432,  1.0792,  1.3965],\n",
       "         [ 0.1698,  0.6366, -0.0632,  2.3906]],\n",
       "\n",
       "        [[-0.7462,  1.1711,  0.0172, -0.2772],\n",
       "         [-0.8464, -0.4719,  1.1355, -0.0249],\n",
       "         [-0.1843, -1.1425, -1.2845,  2.5503],\n",
       "         [-0.3057, -3.4308, -0.9880,  0.7180],\n",
       "         [-0.5151,  0.1432,  1.0792,  1.3965],\n",
       "         [ 0.1698,  0.6366, -0.0632,  2.3906]]])"
      ]
     },
     "execution_count": 22,
     "metadata": {},
     "output_type": "execute_result"
    }
   ],
   "source": [
    "print(x.size())\n",
    "print(pe.size())\n",
    "y = x + pe[:, :x.size(1), :]\n",
    "y"
   ]
  }
 ],
 "metadata": {
  "kernelspec": {
   "display_name": "tmyt",
   "language": "python",
   "name": "python3"
  },
  "language_info": {
   "codemirror_mode": {
    "name": "ipython",
    "version": 3
   },
   "file_extension": ".py",
   "mimetype": "text/x-python",
   "name": "python",
   "nbconvert_exporter": "python",
   "pygments_lexer": "ipython3",
   "version": "3.12.0"
  }
 },
 "nbformat": 4,
 "nbformat_minor": 2
}
