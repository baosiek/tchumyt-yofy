{
 "cells": [
  {
   "cell_type": "code",
   "execution_count": 6,
   "metadata": {},
   "outputs": [],
   "source": [
    "import torch\n",
    "import torch.nn as nn\n",
    "import torch.nn.functional as F\n",
    "import tiktoken\n",
    "from collections import OrderedDict"
   ]
  },
  {
   "cell_type": "code",
   "execution_count": 3,
   "metadata": {},
   "outputs": [
    {
     "name": "stdout",
     "output_type": "stream",
     "text": [
      "tensor([[6109., 3626., 6100.,  345.],\n",
      "        [6109., 1110., 6622.,  257.]])\n"
     ]
    }
   ],
   "source": [
    "tokenizer = tiktoken.get_encoding(\"gpt2\")\n",
    "batch = []\n",
    "txt1 = \"Every effort moves you\"\n",
    "txt2 = \"Every day holds a\"\n",
    "\n",
    "batch.append(torch.tensor(tokenizer.encode(txt1), dtype=torch.float32))\n",
    "batch.append(torch.tensor(tokenizer.encode(txt2), dtype=torch.float32))\n",
    "\n",
    "batch = torch.stack(batch, dim=0)\n",
    "print(batch)"
   ]
  },
  {
   "cell_type": "code",
   "execution_count": 4,
   "metadata": {},
   "outputs": [
    {
     "name": "stdout",
     "output_type": "stream",
     "text": [
      "output.shape: torch.Size([2, 12, 768])\n",
      "hn.shape: torch.Size([1, 2, 768])\n",
      "tensor([[[-0.0436, -0.1075, -0.0022,  ...,  0.0316, -0.0043,  0.0196],\n",
      "         [-0.0054,  0.0417,  0.0538,  ...,  0.0145,  0.0863, -0.0127]]],\n",
      "       grad_fn=<StackBackward0>)\n",
      "torch.Size([2, 1, 768])\n",
      "torch.Size([2, 12, 768])\n"
     ]
    }
   ],
   "source": [
    "input_size: int = 10\n",
    "hidden_size: int = 768\n",
    "sequence_length = 12\n",
    "batch_size: int = 2\n",
    "rnn = nn.GRU(input_size, hidden_size=hidden_size, batch_first=True)\n",
    "input = torch.randn(batch_size, sequence_length, input_size)\n",
    "output, hn = rnn(input)\n",
    "print(f\"output.shape: {output.shape}\")\n",
    "print(f\"hn.shape: {hn.shape}\")\n",
    "print(hn)\n",
    "print(torch.permute(hn, (1, 0, 2)).size())\n",
    "porra = output + torch.permute(hn, (1, 0, 2))\n",
    "print(porra.shape)"
   ]
  },
  {
   "cell_type": "code",
   "execution_count": 5,
   "metadata": {},
   "outputs": [],
   "source": [
    "# Initializes the Multihead attention layer\n",
    "multihead_attn = torch.nn.MultiheadAttention(\n",
    "    embed_dim=hidden_size,\n",
    "    num_heads=4,\n",
    "    dropout=0.5,\n",
    "    bias=False,\n",
    "    batch_first=True\n",
    ")"
   ]
  },
  {
   "cell_type": "code",
   "execution_count": 10,
   "metadata": {},
   "outputs": [
    {
     "name": "stdout",
     "output_type": "stream",
     "text": [
      "torch.Size([2, 12, 768])\n"
     ]
    }
   ],
   "source": [
    "attn_output, attn_output_weights = multihead_attn(porra, porra, porra)\n",
    "print(attn_output.shape)"
   ]
  },
  {
   "cell_type": "code",
   "execution_count": 11,
   "metadata": {},
   "outputs": [
    {
     "data": {
      "text/plain": [
       "Sequential(\n",
       "  (dense1): Linear(in_features=768, out_features=100, bias=True)\n",
       "  (act1): ReLU()\n",
       "  (dense2): Linear(in_features=100, out_features=50, bias=True)\n",
       "  (act2): ReLU()\n",
       "  (output): Linear(in_features=50, out_features=10, bias=True)\n",
       "  (outact): Sigmoid()\n",
       ")"
      ]
     },
     "execution_count": 11,
     "metadata": {},
     "output_type": "execute_result"
    }
   ],
   "source": [
    "model = nn.Sequential(OrderedDict([\n",
    "    ('dense1', nn.Linear(768, 100)),\n",
    "    ('act1', nn.ReLU()),\n",
    "    ('dense2', nn.Linear(100, 50)),\n",
    "    ('act2', nn.ReLU()),\n",
    "    ('output', nn.Linear(50, 10)),\n",
    "    ('outact', nn.Sigmoid()),\n",
    "]))\n",
    "model"
   ]
  },
  {
   "cell_type": "code",
   "execution_count": 12,
   "metadata": {},
   "outputs": [],
   "source": [
    "norm = nn.LayerNorm(10)"
   ]
  },
  {
   "cell_type": "code",
   "execution_count": null,
   "metadata": {},
   "outputs": [
    {
     "data": {
      "text/plain": [
       "tensor([[[0.2887, 0.2887, 0.2887, 0.2887, 0.2887, 0.2888, 0.2887, 0.2887,\n",
       "          0.2888, 0.2887],\n",
       "         [0.2885, 0.2888, 0.2885, 0.2886, 0.2886, 0.2886, 0.2886, 0.2886,\n",
       "          0.2887, 0.2886],\n",
       "         [0.2886, 0.2886, 0.2886, 0.2888, 0.2887, 0.2885, 0.2887, 0.2887,\n",
       "          0.2887, 0.2887],\n",
       "         [0.2888, 0.2886, 0.2886, 0.2889, 0.2885, 0.2887, 0.2887, 0.2887,\n",
       "          0.2888, 0.2886],\n",
       "         [0.2885, 0.2886, 0.2888, 0.2885, 0.2888, 0.2887, 0.2886, 0.2887,\n",
       "          0.2887, 0.2888],\n",
       "         [0.2885, 0.2884, 0.2887, 0.2883, 0.2887, 0.2885, 0.2889, 0.2889,\n",
       "          0.2887, 0.2888],\n",
       "         [0.2885, 0.2882, 0.2888, 0.2885, 0.2887, 0.2886, 0.2888, 0.2888,\n",
       "          0.2888, 0.2889],\n",
       "         [0.2885, 0.2893, 0.2883, 0.2887, 0.2887, 0.2887, 0.2883, 0.2885,\n",
       "          0.2885, 0.2882],\n",
       "         [0.2889, 0.2885, 0.2888, 0.2888, 0.2886, 0.2887, 0.2889, 0.2887,\n",
       "          0.2885, 0.2889],\n",
       "         [0.2890, 0.2889, 0.2888, 0.2888, 0.2887, 0.2889, 0.2885, 0.2885,\n",
       "          0.2885, 0.2887],\n",
       "         [0.2888, 0.2888, 0.2889, 0.2887, 0.2887, 0.2888, 0.2887, 0.2887,\n",
       "          0.2885, 0.2887],\n",
       "         [0.2887, 0.2888, 0.2886, 0.2888, 0.2886, 0.2887, 0.2886, 0.2886,\n",
       "          0.2887, 0.2885]],\n",
       "\n",
       "        [[0.2888, 0.2885, 0.2887, 0.2888, 0.2885, 0.2885, 0.2888, 0.2888,\n",
       "          0.2888, 0.2886],\n",
       "         [0.2889, 0.2886, 0.2886, 0.2887, 0.2884, 0.2887, 0.2887, 0.2887,\n",
       "          0.2885, 0.2887],\n",
       "         [0.2889, 0.2883, 0.2887, 0.2885, 0.2886, 0.2887, 0.2888, 0.2889,\n",
       "          0.2887, 0.2888],\n",
       "         [0.2885, 0.2890, 0.2885, 0.2886, 0.2888, 0.2888, 0.2886, 0.2885,\n",
       "          0.2887, 0.2887],\n",
       "         [0.2887, 0.2885, 0.2887, 0.2886, 0.2887, 0.2888, 0.2887, 0.2888,\n",
       "          0.2886, 0.2887],\n",
       "         [0.2886, 0.2890, 0.2887, 0.2885, 0.2888, 0.2889, 0.2885, 0.2885,\n",
       "          0.2885, 0.2888],\n",
       "         [0.2885, 0.2890, 0.2885, 0.2889, 0.2889, 0.2886, 0.2885, 0.2885,\n",
       "          0.2886, 0.2886],\n",
       "         [0.2885, 0.2887, 0.2888, 0.2887, 0.2888, 0.2886, 0.2887, 0.2886,\n",
       "          0.2887, 0.2887],\n",
       "         [0.2889, 0.2887, 0.2886, 0.2886, 0.2884, 0.2886, 0.2887, 0.2888,\n",
       "          0.2888, 0.2885],\n",
       "         [0.2889, 0.2882, 0.2888, 0.2888, 0.2885, 0.2885, 0.2889, 0.2889,\n",
       "          0.2888, 0.2886],\n",
       "         [0.2885, 0.2886, 0.2888, 0.2887, 0.2888, 0.2886, 0.2886, 0.2886,\n",
       "          0.2888, 0.2886],\n",
       "         [0.2885, 0.2890, 0.2887, 0.2886, 0.2888, 0.2888, 0.2885, 0.2884,\n",
       "          0.2886, 0.2887]]], grad_fn=<DivBackward0>)"
      ]
     },
     "execution_count": 13,
     "metadata": {},
     "output_type": "execute_result"
    }
   ],
   "source": [
    "outi = model(attn_output)\n",
    "outi = F.normalize(outi)\n",
    "outi"
   ]
  }
 ],
 "metadata": {
  "kernelspec": {
   "display_name": "tmyt",
   "language": "python",
   "name": "python3"
  },
  "language_info": {
   "codemirror_mode": {
    "name": "ipython",
    "version": 3
   },
   "file_extension": ".py",
   "mimetype": "text/x-python",
   "name": "python",
   "nbconvert_exporter": "python",
   "pygments_lexer": "ipython3",
   "version": "3.12.0"
  }
 },
 "nbformat": 4,
 "nbformat_minor": 2
}
