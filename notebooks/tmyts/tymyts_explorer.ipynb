{
 "cells": [
  {
   "cell_type": "code",
   "execution_count": 8,
   "metadata": {},
   "outputs": [],
   "source": [
    "import torch\n",
    "from torch import nn\n"
   ]
  },
  {
   "cell_type": "code",
   "execution_count": 2,
   "metadata": {},
   "outputs": [
    {
     "data": {
      "text/plain": [
       "tensor([[0.9041, 0.1724, 0.8665, 0.9650, 0.9044, 0.9507],\n",
       "        [0.5935, 0.2036, 0.7158, 0.2032, 0.1158, 0.5202],\n",
       "        [0.2977, 0.1396, 0.9110, 0.7560, 0.0491, 0.6270]])"
      ]
     },
     "execution_count": 2,
     "metadata": {},
     "output_type": "execute_result"
    }
   ],
   "source": [
    "t1 = torch.rand((3,6))\n",
    "t1"
   ]
  },
  {
   "cell_type": "code",
   "execution_count": 3,
   "metadata": {},
   "outputs": [
    {
     "data": {
      "text/plain": [
       "tensor([[0.2794, 0.3596, 0.9198],\n",
       "        [0.5517, 0.5293, 0.7042],\n",
       "        [0.1445, 0.1656, 0.0077]])"
      ]
     },
     "execution_count": 3,
     "metadata": {},
     "output_type": "execute_result"
    }
   ],
   "source": [
    "t2 = torch.rand((3,3)) \n",
    "t2"
   ]
  },
  {
   "cell_type": "code",
   "execution_count": 4,
   "metadata": {},
   "outputs": [
    {
     "data": {
      "text/plain": [
       "(tensor([[0.9041, 0.1724, 0.8665],\n",
       "         [0.5935, 0.2036, 0.7158],\n",
       "         [0.2977, 0.1396, 0.9110]]),\n",
       " tensor([[0.9650, 0.9044, 0.9507],\n",
       "         [0.2032, 0.1158, 0.5202],\n",
       "         [0.7560, 0.0491, 0.6270]]))"
      ]
     },
     "execution_count": 4,
     "metadata": {},
     "output_type": "execute_result"
    }
   ],
   "source": [
    "t3, t4 = torch.split(t1, 3, dim=1)\n",
    "t3, t4\n"
   ]
  },
  {
   "cell_type": "code",
   "execution_count": 5,
   "metadata": {},
   "outputs": [
    {
     "data": {
      "text/plain": [
       "(tensor([[1.1835, 0.5320, 1.7863],\n",
       "         [1.1452, 0.7330, 1.4200],\n",
       "         [0.4422, 0.3052, 0.9187]]),\n",
       " tensor([[1.2444, 1.2640, 1.8705],\n",
       "         [0.7549, 0.6452, 1.2245],\n",
       "         [0.9005, 0.2147, 0.6346]]))"
      ]
     },
     "execution_count": 5,
     "metadata": {},
     "output_type": "execute_result"
    }
   ],
   "source": [
    "t5 = t3 + t2\n",
    "t6 = t4 + t2\n",
    "t5, t6"
   ]
  },
  {
   "cell_type": "code",
   "execution_count": 6,
   "metadata": {},
   "outputs": [
    {
     "data": {
      "text/plain": [
       "tensor([[1.1835, 0.5320, 1.7863, 1.2444, 1.2640, 1.8705],\n",
       "        [1.1452, 0.7330, 1.4200, 0.7549, 0.6452, 1.2245],\n",
       "        [0.4422, 0.3052, 0.9187, 0.9005, 0.2147, 0.6346]])"
      ]
     },
     "execution_count": 6,
     "metadata": {},
     "output_type": "execute_result"
    }
   ],
   "source": [
    "t1 = torch.cat((t5, t6), dim=1)\n",
    "t1"
   ]
  },
  {
   "cell_type": "code",
   "execution_count": 26,
   "metadata": {},
   "outputs": [
    {
     "data": {
      "text/plain": [
       "tensor([[[0.2900, 0.8509, 0.7264,  ..., 0.0065, 0.9446, 0.1797],\n",
       "         [0.5046, 0.6989, 0.8539,  ..., 0.0534, 0.9434, 0.4295],\n",
       "         [0.8108, 0.4767, 0.8300,  ..., 0.7621, 0.1467, 0.6529],\n",
       "         ...,\n",
       "         [0.3657, 0.7054, 0.0345,  ..., 0.8434, 0.9378, 0.0851],\n",
       "         [0.9807, 0.2705, 0.0195,  ..., 0.0483, 0.6319, 0.0758],\n",
       "         [0.3608, 0.6215, 0.5861,  ..., 0.6164, 0.3729, 0.2143]]])"
      ]
     },
     "execution_count": 26,
     "metadata": {},
     "output_type": "execute_result"
    }
   ],
   "source": [
    "conv_t = torch.rand((1,128,1024))\n",
    "conv_t"
   ]
  },
  {
   "cell_type": "code",
   "execution_count": 32,
   "metadata": {},
   "outputs": [
    {
     "data": {
      "text/plain": [
       "<torch._C.Generator at 0x7615380f8950>"
      ]
     },
     "execution_count": 32,
     "metadata": {},
     "output_type": "execute_result"
    }
   ],
   "source": [
    "torch.manual_seed(123)"
   ]
  },
  {
   "cell_type": "code",
   "execution_count": 67,
   "metadata": {},
   "outputs": [
    {
     "data": {
      "text/plain": [
       "tensor([[[ 0.1864,  0.0350, -0.3666,  ..., -0.2809,  0.1803,  0.0100],\n",
       "         [-0.3856, -0.5495, -0.1249,  ..., -0.1479,  0.1119, -0.2406],\n",
       "         [-0.4973, -0.1661, -0.1777,  ..., -0.1808, -0.0598, -0.0958],\n",
       "         ...,\n",
       "         [ 0.0926,  0.4425,  0.5775,  ...,  0.0929,  0.5488,  0.1917],\n",
       "         [ 0.0305,  0.2408,  0.1439,  ..., -0.1633,  0.0037,  0.1878],\n",
       "         [-0.1267,  0.0195, -0.2394,  ..., -0.1168, -0.1095, -0.1469]]],\n",
       "       grad_fn=<ConvolutionBackward0>)"
      ]
     },
     "execution_count": 67,
     "metadata": {},
     "output_type": "execute_result"
    }
   ],
   "source": [
    "conv1 = nn.Conv1d(128, 128, 4, 1, groups=128)\n",
    "out = conv1(conv_t)\n",
    "out"
   ]
  }
 ],
 "metadata": {
  "kernelspec": {
   "display_name": "tmyt",
   "language": "python",
   "name": "python3"
  },
  "language_info": {
   "codemirror_mode": {
    "name": "ipython",
    "version": 3
   },
   "file_extension": ".py",
   "mimetype": "text/x-python",
   "name": "python",
   "nbconvert_exporter": "python",
   "pygments_lexer": "ipython3",
   "version": "3.13.2"
  }
 },
 "nbformat": 4,
 "nbformat_minor": 2
}
