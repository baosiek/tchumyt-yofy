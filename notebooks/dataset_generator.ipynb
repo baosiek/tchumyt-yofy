{
 "cells": [
  {
   "cell_type": "code",
   "execution_count": 3,
   "metadata": {},
   "outputs": [],
   "source": [
    "import torch\n",
    "\n"
   ]
  },
  {
   "cell_type": "code",
   "execution_count": 7,
   "metadata": {},
   "outputs": [],
   "source": [
    "generator1 = torch.Generator().manual_seed(42)\n",
    "generator2 = torch.Generator().manual_seed(42)\n",
    "d1: torch.utils.data.dataset.Subset = torch.utils.data.random_split(range(10), [3, 7], generator=generator1)\n",
    "d2: torch.utils.data.dataset.Subset = torch.utils.data.random_split(range(10), [0.9, 0.1], generator=generator2)"
   ]
  },
  {
   "cell_type": "code",
   "execution_count": 9,
   "metadata": {},
   "outputs": [],
   "source": [
    "train = d2[0]\n",
    "val = d2[1]\n"
   ]
  },
  {
   "cell_type": "code",
   "execution_count": 10,
   "metadata": {},
   "outputs": [
    {
     "name": "stdout",
     "output_type": "stream",
     "text": [
      "2\n",
      "6\n",
      "1\n",
      "8\n",
      "4\n",
      "5\n",
      "0\n",
      "9\n",
      "3\n"
     ]
    }
   ],
   "source": [
    "for line in train:\n",
    "    print(line)"
   ]
  }
 ],
 "metadata": {
  "kernelspec": {
   "display_name": "tmyt",
   "language": "python",
   "name": "python3"
  },
  "language_info": {
   "codemirror_mode": {
    "name": "ipython",
    "version": 3
   },
   "file_extension": ".py",
   "mimetype": "text/x-python",
   "name": "python",
   "nbconvert_exporter": "python",
   "pygments_lexer": "ipython3",
   "version": "3.12.0"
  }
 },
 "nbformat": 4,
 "nbformat_minor": 2
}
