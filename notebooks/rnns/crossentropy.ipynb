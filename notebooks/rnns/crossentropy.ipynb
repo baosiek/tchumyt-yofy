{
 "cells": [
  {
   "cell_type": "code",
   "execution_count": 1,
   "metadata": {},
   "outputs": [],
   "source": [
    "import torch\n",
    "import torch.nn as nn\n",
    "import torch.nn.functional as F"
   ]
  },
  {
   "cell_type": "code",
   "execution_count": 19,
   "metadata": {},
   "outputs": [
    {
     "name": "stdout",
     "output_type": "stream",
     "text": [
      "tensor(1.)\n",
      "tensor(1.0000)\n"
     ]
    },
    {
     "name": "stderr",
     "output_type": "stream",
     "text": [
      "/tmp/ipykernel_1719173/826768824.py:2: UserWarning: To copy construct from a tensor, it is recommended to use sourceTensor.clone().detach() or sourceTensor.clone().detach().requires_grad_(True), rather than torch.tensor(sourceTensor).\n",
      "  t1_tensor = torch.tensor(torch.rand([5]))\n",
      "/tmp/ipykernel_1719173/826768824.py:4: UserWarning: To copy construct from a tensor, it is recommended to use sourceTensor.clone().detach() or sourceTensor.clone().detach().requires_grad_(True), rather than torch.tensor(sourceTensor).\n",
      "  t2_tensor = torch.tensor(torch.rand([5]))\n"
     ]
    },
    {
     "data": {
      "text/plain": [
       "tensor(1.6188)"
      ]
     },
     "execution_count": 19,
     "metadata": {},
     "output_type": "execute_result"
    }
   ],
   "source": [
    "torch.manual_seed(123)\n",
    "t1_tensor = torch.tensor(torch.rand([5]))\n",
    "t1_tensor = torch.softmax(t1_tensor, dim=-1)\n",
    "t2_tensor = torch.tensor(torch.rand([5]))\n",
    "t2_tensor = torch.softmax(t2_tensor, dim=-1)\n",
    "print(sum(t1_tensor))\n",
    "print(sum(t2_tensor))\n",
    "\n",
    "loss = F.cross_entropy(t1_tensor, t2_tensor)\n",
    "loss"
   ]
  }
 ],
 "metadata": {
  "kernelspec": {
   "display_name": "tmyt",
   "language": "python",
   "name": "python3"
  },
  "language_info": {
   "codemirror_mode": {
    "name": "ipython",
    "version": 3
   },
   "file_extension": ".py",
   "mimetype": "text/x-python",
   "name": "python",
   "nbconvert_exporter": "python",
   "pygments_lexer": "ipython3",
   "version": "3.12.0"
  }
 },
 "nbformat": 4,
 "nbformat_minor": 2
}
