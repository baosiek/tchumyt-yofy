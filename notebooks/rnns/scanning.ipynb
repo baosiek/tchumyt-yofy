{
 "cells": [
  {
   "cell_type": "code",
   "execution_count": 1,
   "metadata": {},
   "outputs": [],
   "source": [
    "import torch"
   ]
  },
  {
   "cell_type": "code",
   "execution_count": 2,
   "metadata": {},
   "outputs": [],
   "source": [
    "# Loop-based implementation for comparison\n",
    "def parallel_scan_torch(a, b, v0):\n",
    "    \"\"\"\n",
    "    Perform the parallel scan for vt = at ⊙ vt-1 + bt using a for loop (PyTorch).\n",
    "\n",
    "    Parameters:\n",
    "        a (torch.Tensor): Tensor of coefficients `a`.\n",
    "        b (torch.Tensor): Tensor of coefficients `b`.\n",
    "        v0 (float): Initial value of `v`.\n",
    "\n",
    "    Returns:\n",
    "        torch.Tensor: Tensor of computed `v` values.\n",
    "    \"\"\"\n",
    "    n = len(a)\n",
    "    v = torch.zeros_like(a)\n",
    "    v[0] = a[0] * v0 + b[0]\n",
    "    for t in range(1, n):\n",
    "        v[t] = a[t] * v[t - 1] + b[t]\n",
    "    return v"
   ]
  },
  {
   "cell_type": "code",
   "execution_count": 4,
   "metadata": {},
   "outputs": [
    {
     "name": "stdout",
     "output_type": "stream",
     "text": [
      "Result with loop (PyTorch):\n",
      "tensor([1.0000, 2.6000, 4.8200, 7.8560])\n"
     ]
    }
   ],
   "source": [
    "# Example usage\n",
    "a = torch.tensor([0.5, 0.6, 0.7, 0.8])\n",
    "b = torch.tensor([1.0, 2.0, 3.0, 4.0])\n",
    "\n",
    "v0 = 0\n",
    "\n",
    "# Results\n",
    "result_with_loop = parallel_scan_torch(a, b, v0)\n",
    "\n",
    "print(\"Result with loop (PyTorch):\")\n",
    "print(result_with_loop)\n"
   ]
  },
  {
   "cell_type": "code",
   "execution_count": null,
   "metadata": {},
   "outputs": [],
   "source": [
    "def parallel_scan_no_loop_torch(a: torch.Tensor, b: torch.Tensor, v0: torch.Tensor):\n",
    "    \"\"\"\n",
    "    Perform the parallel scan for vt = at ⊙ vt-1 + bt without using a for loop (PyTorch).\n",
    "\n",
    "    Parameters:\n",
    "        a (torch.Tensor): Tensor of coefficients `a`.\n",
    "        b (torch.Tensor): Tensor of coefficients `b`.\n",
    "        v0 (float): Initial value of `v`.\n",
    "\n",
    "    Returns:\n",
    "        torch.Tensor: Tensor of computed `v` values.\n",
    "    \"\"\"\n",
    "\n",
    "    seq_length = a.shape[1]\n",
    "    v = torch.zeros_like(a)\n",
    "    v[0] = a[0] * v0 + b[0]\n",
    "    print(f\"seq_length: {seq_length}\")\n",
    "    for i in range(seq_length):\n",
    "        v[:,i,:] = a[:,i,:] * v[:, i - 1, :] + b[:,i,:]\n",
    "\n",
    "    return v"
   ]
  },
  {
   "cell_type": "code",
   "execution_count": 10,
   "metadata": {},
   "outputs": [
    {
     "name": "stdout",
     "output_type": "stream",
     "text": [
      "4\n"
     ]
    }
   ],
   "source": [
    "a = torch.rand((1, 4, 3))\n",
    "b = torch.rand((1, 4, 3))\n",
    "v0 = 0\n",
    "\n",
    "result = parallel_scan_no_loop_torch(a, b, v0)"
   ]
  }
 ],
 "metadata": {
  "kernelspec": {
   "display_name": "tmyt",
   "language": "python",
   "name": "python3"
  },
  "language_info": {
   "codemirror_mode": {
    "name": "ipython",
    "version": 3
   },
   "file_extension": ".py",
   "mimetype": "text/x-python",
   "name": "python",
   "nbconvert_exporter": "python",
   "pygments_lexer": "ipython3",
   "version": "3.12.0"
  }
 },
 "nbformat": 4,
 "nbformat_minor": 2
}
