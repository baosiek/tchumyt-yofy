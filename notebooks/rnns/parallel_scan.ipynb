{
 "cells": [
  {
   "cell_type": "code",
   "execution_count": 1,
   "metadata": {},
   "outputs": [],
   "source": [
    "import torch\n",
    "import torch.nn as nn\n",
    "import torch.nn.functional as F\n",
    "import torch_parallel_scan as tps"
   ]
  },
  {
   "cell_type": "code",
   "execution_count": null,
   "metadata": {},
   "outputs": [
    {
     "name": "stdout",
     "output_type": "stream",
     "text": [
      "Result with loop (PyTorch):\n",
      "tensor([1.0000, 2.6000, 4.8200, 7.8560])\n"
     ]
    }
   ],
   "source": [
    "import torch\n",
    "\n",
    "# Loop-based implementation for comparison\n",
    "def parallel_scan_torch(a, b, v0):\n",
    "    \"\"\"\n",
    "    Perform the parallel scan for vt = at ⊙ vt-1 + bt using a for loop (PyTorch).\n",
    "\n",
    "    Parameters:\n",
    "        a (torch.Tensor): Tensor of coefficients `a`.\n",
    "        b (torch.Tensor): Tensor of coefficients `b`.\n",
    "        v0 (float): Initial value of `v`.\n",
    "\n",
    "    Returns:\n",
    "        torch.Tensor: Tensor of computed `v` values.\n",
    "    \"\"\"\n",
    "    n = len(a)\n",
    "    v = torch.zeros_like(a)\n",
    "    v[0] = a[0] * v0 + b[0]\n",
    "    for t in range(1, n):\n",
    "        v[t] = a[t] * v[t - 1] + b[t]\n",
    "    return v"
   ]
  },
  {
   "cell_type": "code",
   "execution_count": null,
   "metadata": {},
   "outputs": [],
   "source": [
    "def parallel_scan_no_loop_torch(a, b, v0):\n",
    "    \"\"\"\n",
    "    Perform the parallel scan for vt = at ⊙ vt-1 + bt without using a for loop (PyTorch).\n",
    "\n",
    "    Parameters:\n",
    "        a (torch.Tensor): Tensor of coefficients `a`.\n",
    "        b (torch.Tensor): Tensor of coefficients `b`.\n",
    "        v0 (float): Initial value of `v`.\n",
    "\n",
    "    Returns:\n",
    "        torch.Tensor: Tensor of computed `v` values.\n",
    "    \"\"\"\n",
    "    # Compute the cumulative product of `a`\n",
    "    cumulative_a = torch.cumprod(a, dim=-1)\n",
    "    \n",
    "    # Compute the scaling factors for `b`\n",
    "    # scaling_factors = torch.cat((torch.tensor([1.0], device=a.device), cumulative_a[:-1]))\n",
    "    \n",
    "    # Compute the contributions from `b`\n",
    "    # weighted_b = b * scaling_factors\n",
    "    b_contributions = torch.cumsum(b - cumulative_a, dim=-1)\n",
    "    \n",
    "    # Compute the final result\n",
    "    v = a * b\n",
    "    return v"
   ]
  },
  {
   "cell_type": "code",
   "execution_count": 58,
   "metadata": {},
   "outputs": [
    {
     "name": "stdout",
     "output_type": "stream",
     "text": [
      "Result with loop (PyTorch):\n",
      "tensor([[0.7824, 0.7945, 0.7638, 0.6933, 0.0084]])\n",
      "Result with no loop (PyTorch):\n",
      "tensor([[2.4126e-02, 2.9535e-01, 4.1106e-02, 5.1348e-01, 1.7030e-04]])\n"
     ]
    }
   ],
   "source": [
    "# Example usage\n",
    "a = torch.tensor([0.5, 0.6, 0.7, 0.8, 0.9, 1.2, 0.3])\n",
    "b = torch.tensor([1.0, 2.0, 3.0, 4.0, 5.0, 6.0, 7.0])\n",
    "\n",
    "a = torch.rand((1, 5))\n",
    "b = torch.rand((1, 5))\n",
    "v0 = 0\n",
    "\n",
    "# Results\n",
    "result_with_loop = parallel_scan_torch(a, b, v0)\n",
    "result_no_loop = parallel_scan_no_loop_torch(a, b, v0)\n",
    "\n",
    "print(\"Result with loop (PyTorch):\")\n",
    "print(result_with_loop)\n",
    "\n",
    "print(\"Result with no loop (PyTorch):\")\n",
    "print(result_no_loop)"
   ]
  }
 ],
 "metadata": {
  "kernelspec": {
   "display_name": "tmyt",
   "language": "python",
   "name": "python3"
  },
  "language_info": {
   "codemirror_mode": {
    "name": "ipython",
    "version": 3
   },
   "file_extension": ".py",
   "mimetype": "text/x-python",
   "name": "python",
   "nbconvert_exporter": "python",
   "pygments_lexer": "ipython3",
   "version": "3.12.0"
  }
 },
 "nbformat": 4,
 "nbformat_minor": 2
}
