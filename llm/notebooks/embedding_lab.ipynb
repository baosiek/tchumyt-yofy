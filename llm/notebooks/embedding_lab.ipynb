{
 "cells": [
  {
   "cell_type": "code",
   "execution_count": 4,
   "metadata": {},
   "outputs": [],
   "source": [
    "import torch\n",
    "import torch.nn as nn"
   ]
  },
  {
   "cell_type": "code",
   "execution_count": 30,
   "metadata": {},
   "outputs": [
    {
     "data": {
      "text/plain": [
       "tensor([[3, 5, 2, 0, 4, 1],\n",
       "        [3, 5, 2, 0, 4, 1]])"
      ]
     },
     "execution_count": 30,
     "metadata": {},
     "output_type": "execute_result"
    }
   ],
   "source": [
    "word_to_ix = {\"The\": 3, \"boy\": 5, \"is\": 2, \"at\": 0, \"his\": 4, \"home\": 1}\n",
    "lookup_tensor = torch.tensor(list(word_to_ix.values()), dtype=torch.long)\n",
    "\n",
    "batch_size: int = 2\n",
    "\n",
    "# Temporary structure to enable torch.stack\n",
    "input_list = []\n",
    "for i in range(batch_size):\n",
    "    input_list.append(lookup_tensor)\n",
    "\n",
    "\n",
    "\n",
    "batch: torch.Tensor = torch.stack(input_list, dim=0)\n",
    "batch"
   ]
  },
  {
   "cell_type": "code",
   "execution_count": 34,
   "metadata": {},
   "outputs": [
    {
     "data": {
      "text/plain": [
       "tensor([[[-0.7462,  0.1711,  0.0172, -1.2772],\n",
       "         [-1.6879, -1.0122,  1.1333, -1.0249],\n",
       "         [-1.0936, -0.7264, -1.2888,  1.5503],\n",
       "         [-0.4468, -2.4408, -0.9945, -0.2820],\n",
       "         [ 0.2417,  0.7968,  1.0706,  0.3965],\n",
       "         [ 1.1287,  0.3529, -0.0740,  1.3907]],\n",
       "\n",
       "        [[-0.7462,  0.1711,  0.0172, -1.2772],\n",
       "         [-1.6879, -1.0122,  1.1333, -1.0249],\n",
       "         [-1.0936, -0.7264, -1.2888,  1.5503],\n",
       "         [-0.4468, -2.4408, -0.9945, -0.2820],\n",
       "         [ 0.2417,  0.7968,  1.0706,  0.3965],\n",
       "         [ 1.1287,  0.3529, -0.0740,  1.3907]]], grad_fn=<EmbeddingBackward0>)"
      ]
     },
     "execution_count": 34,
     "metadata": {},
     "output_type": "execute_result"
    }
   ],
   "source": [
    "vocabulary_size: int = 6\n",
    "embedding_dimension: int = 4\n",
    "token_embedding: nn.Embedding = nn.Embedding(\n",
    "    vocabulary_size,\n",
    "    embedding_dimension\n",
    ")\n",
    "\n",
    "output: torch.Tensor = token_embedding(batch)\n",
    "output"
   ]
  }
 ],
 "metadata": {
  "kernelspec": {
   "display_name": "tmyt",
   "language": "python",
   "name": "python3"
  },
  "language_info": {
   "codemirror_mode": {
    "name": "ipython",
    "version": 3
   },
   "file_extension": ".py",
   "mimetype": "text/x-python",
   "name": "python",
   "nbconvert_exporter": "python",
   "pygments_lexer": "ipython3",
   "version": "3.12.0"
  }
 },
 "nbformat": 4,
 "nbformat_minor": 2
}
