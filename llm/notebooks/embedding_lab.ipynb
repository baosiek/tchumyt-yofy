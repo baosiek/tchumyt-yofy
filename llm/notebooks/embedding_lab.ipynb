{
 "cells": [
  {
   "cell_type": "code",
   "execution_count": 4,
   "metadata": {},
   "outputs": [],
   "source": [
    "import torch\n",
    "import torch.nn as nn"
   ]
  },
  {
   "cell_type": "code",
   "execution_count": 30,
   "metadata": {},
   "outputs": [
    {
     "data": {
      "text/plain": [
       "tensor([[3, 5, 2, 0, 4, 1],\n",
       "        [3, 5, 2, 0, 4, 1]])"
      ]
     },
     "execution_count": 30,
     "metadata": {},
     "output_type": "execute_result"
    }
   ],
   "source": [
    "word_to_ix = {\"The\": 3, \"boy\": 5, \"is\": 2, \"at\": 0, \"his\": 4, \"home\": 1}\n",
    "lookup_tensor = torch.tensor(list(word_to_ix.values()), dtype=torch.long)\n",
    "\n",
    "batch_size: int = 2\n",
    "\n",
    "# Temporary structure to enable torch.stack\n",
    "input_list = []\n",
    "for i in range(batch_size):\n",
    "    input_list.append(lookup_tensor)\n",
    "\n",
    "\n",
    "\n",
    "batch: torch.Tensor = torch.stack(input_list, dim=0)\n",
    "batch"
   ]
  },
  {
   "cell_type": "code",
   "execution_count": 32,
   "metadata": {},
   "outputs": [
    {
     "data": {
      "text/plain": [
       "tensor([[[ 0.1660,  0.9785,  1.5597],\n",
       "         [-1.2919, -0.5741,  1.8135],\n",
       "         [ 0.0423, -0.5355, -0.3579],\n",
       "         [-0.8416, -0.6742,  1.0579],\n",
       "         [-0.0212, -0.2565,  1.7464],\n",
       "         [-0.1707,  0.3214, -0.0096]],\n",
       "\n",
       "        [[ 0.1660,  0.9785,  1.5597],\n",
       "         [-1.2919, -0.5741,  1.8135],\n",
       "         [ 0.0423, -0.5355, -0.3579],\n",
       "         [-0.8416, -0.6742,  1.0579],\n",
       "         [-0.0212, -0.2565,  1.7464],\n",
       "         [-0.1707,  0.3214, -0.0096]]], grad_fn=<EmbeddingBackward0>)"
      ]
     },
     "execution_count": 32,
     "metadata": {},
     "output_type": "execute_result"
    }
   ],
   "source": [
    "vocabulary_size: int = 6\n",
    "embedding_dimension: int = 3\n",
    "token_embedding: nn.Embedding = nn.Embedding(\n",
    "    vocabulary_size,\n",
    "    embedding_dimension\n",
    ")\n",
    "\n",
    "output: torch.Tensor = token_embedding(batch)\n",
    "output"
   ]
  }
 ],
 "metadata": {
  "kernelspec": {
   "display_name": "tmyt",
   "language": "python",
   "name": "python3"
  },
  "language_info": {
   "codemirror_mode": {
    "name": "ipython",
    "version": 3
   },
   "file_extension": ".py",
   "mimetype": "text/x-python",
   "name": "python",
   "nbconvert_exporter": "python",
   "pygments_lexer": "ipython3",
   "version": "3.12.0"
  }
 },
 "nbformat": 4,
 "nbformat_minor": 2
}
