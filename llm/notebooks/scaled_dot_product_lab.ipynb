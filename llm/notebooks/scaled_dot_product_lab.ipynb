{
 "cells": [
  {
   "cell_type": "code",
   "execution_count": 30,
   "metadata": {},
   "outputs": [],
   "source": [
    "import torch\n",
    "import torch.nn as nn\n",
    "import torch.nn.functional as F"
   ]
  },
  {
   "cell_type": "code",
   "execution_count": 5,
   "metadata": {},
   "outputs": [
    {
     "data": {
      "text/plain": [
       "<torch._C.Generator at 0x75cb6c3e90b0>"
      ]
     },
     "execution_count": 5,
     "metadata": {},
     "output_type": "execute_result"
    }
   ],
   "source": [
    "torch.manual_seed(123)"
   ]
  },
  {
   "cell_type": "code",
   "execution_count": null,
   "metadata": {},
   "outputs": [],
   "source": [
    "def scaled_dot_product(query: torch.Tensor, key: torch.Tensor, value: torch.Tensor, mask: torch.Tensor):\n",
    "    \n",
    "        embedding_dimension = torch.tensor(\n",
    "        query.size()[-1],\n",
    "        dtype=torch.float32\n",
    "        )\n",
    "\n",
    "        # The nominator of the self attention\n",
    "        attention_score: torch.Tensor = torch.matmul(\n",
    "                query,\n",
    "                key.transpose(-2, -1)\n",
    "                )\n",
    "        \n",
    "        attention_weights: torch.Tensor = attention_score / torch.sqrt(embedding_dimension)\n",
    "        \n",
    "        if mask is not None:\n",
    "                attention_weights.masked_fill_(mask.bool(), -torch.inf)\n",
    "\n",
    "        attention_weights = F.softmax(attention_weights, dim=-1)\n",
    "        output = torch.matmul(attention_weights, value)\n",
    "        return output\n",
    "        "
   ]
  },
  {
   "cell_type": "code",
   "execution_count": 3,
   "metadata": {},
   "outputs": [],
   "source": [
    "x: torch.Tensor = torch.tensor(\n",
    "    [[0.43, 0.15, 0.89],    \n",
    "     [0.55, 0.87, 0.66],    \n",
    "     [0.57, 0.85, 0.64],    \n",
    "     [0.22, 0.58, 0.33],    \n",
    "     [0.77, 0.25, 0.10],    \n",
    "     [0.05, 0.80, 0.55]]\n",
    "     )"
   ]
  },
  {
   "cell_type": "code",
   "execution_count": 27,
   "metadata": {},
   "outputs": [],
   "source": [
    "embedding_dim: int = x.shape[-1]\n",
    "sequence_length: int = x.shape[-2]"
   ]
  },
  {
   "cell_type": "code",
   "execution_count": 39,
   "metadata": {},
   "outputs": [],
   "source": [
    "query_w: nn.Linear = nn.Linear(embedding_dim, embedding_dim, bias=False)\n",
    "queries = query_w(x)\n",
    "\n",
    "key_w: nn.Linear = nn.Linear(embedding_dim, embedding_dim, bias=False)\n",
    "keys: torch.Tensor = key_w(x)\n",
    "\n",
    "value_w: nn.Linear = nn.Linear(embedding_dim, embedding_dim, bias=False)\n",
    "values = value_w(x)\n",
    "\n",
    "mask: torch.Tensor = torch.triu(torch.ones(sequence_length, sequence_length), diagonal=1)\n"
   ]
  },
  {
   "cell_type": "code",
   "execution_count": 40,
   "metadata": {},
   "outputs": [],
   "source": [
    "context_vector: torch.Tensor = scaled_dot_product(query=queries, key=keys, value=values, mask=mask)"
   ]
  }
 ],
 "metadata": {
  "kernelspec": {
   "display_name": "tmyt",
   "language": "python",
   "name": "python3"
  },
  "language_info": {
   "codemirror_mode": {
    "name": "ipython",
    "version": 3
   },
   "file_extension": ".py",
   "mimetype": "text/x-python",
   "name": "python",
   "nbconvert_exporter": "python",
   "pygments_lexer": "ipython3",
   "version": "3.12.0"
  }
 },
 "nbformat": 4,
 "nbformat_minor": 2
}
